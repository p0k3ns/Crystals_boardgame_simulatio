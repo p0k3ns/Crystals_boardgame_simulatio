{
 "cells": [
  {
   "cell_type": "code",
   "execution_count": 2,
   "id": "overall-script",
   "metadata": {},
   "outputs": [],
   "source": [
    "import pandas as pd\n",
    "import numpy as np\n",
    "import matplotlib.pyplot as plt\n",
    "import time"
   ]
  },
  {
   "cell_type": "code",
   "execution_count": 12,
   "id": "opening-italian",
   "metadata": {},
   "outputs": [
    {
     "name": "stdout",
     "output_type": "stream",
     "text": [
      "[10, 0, 0, 0, 0, 0]\n"
     ]
    }
   ],
   "source": [
    "#generation of starting inventory\n",
    "#inventory consists of [gold,water,fire,air,earth,empty]\n",
    "plecak = [10,0,0,0,0,0]\n",
    "def buy(plecak):\n",
    "    while plecak[0]>1:\n",
    "        i = np.random.randint(1,6)\n",
    "        if(i<5):\n",
    "            plecak[i] = plecak[i]+1\n",
    "            plecak[0] = plecak[0]-2\n",
    "        else:\n",
    "            plecak[i] = plecak[i]+1\n",
    "            plecak[0] = plecak[0]-1\n",
    "    if(plecak[0]==1):\n",
    "        plecak[5] = plecak[5]+1\n",
    "        plecak[0] = plecak[0]-1\n",
    "    return(plecak)\n",
    "print(plecak)"
   ]
  },
  {
   "cell_type": "code",
   "execution_count": 13,
   "id": "entire-jordan",
   "metadata": {},
   "outputs": [
    {
     "name": "stdout",
     "output_type": "stream",
     "text": [
      "[10, 0, 0, 0, 0, 0]\n"
     ]
    }
   ],
   "source": [
    "#fill crystals\n",
    "def fill(plecak):\n",
    "    n=5\n",
    "    while n not in (0,1,2,3):\n",
    "        n=np.random.normal(4,2)//2\n",
    "    i = np.random.randint(1,5)\n",
    "    while n != 0 and plecak[5]>0:\n",
    "        plecak[i] = plecak[i]+1\n",
    "        plecak[5] = plecak[5]-1\n",
    "        n=n-1\n",
    "    return(plecak)\n",
    "print(plecak)"
   ]
  },
  {
   "cell_type": "code",
   "execution_count": 14,
   "id": "respiratory-plymouth",
   "metadata": {},
   "outputs": [
    {
     "name": "stdout",
     "output_type": "stream",
     "text": [
      "[10, 0, 0, 0, 0, 0]\n"
     ]
    }
   ],
   "source": [
    "#sell crystals\n",
    "def sell(plecak):\n",
    "    s = sum(plecak[1:5])\n",
    "    plecak = [plecak[0]+s//3*10,0,0,0,0,plecak[5]]\n",
    "    return(plecak)\n",
    "plecak = sell(plecak)\n",
    "print(plecak)"
   ]
  },
  {
   "cell_type": "code",
   "execution_count": 15,
   "id": "composed-bradford",
   "metadata": {},
   "outputs": [],
   "source": [
    "#buy a card\n",
    "def buy_card(plecak):\n",
    "    n=0\n",
    "    while n not in (3,4,5,6,7,8):\n",
    "        n=np.random.normal(12,4)//2\n",
    "    return(n)"
   ]
  },
  {
   "cell_type": "code",
   "execution_count": 21,
   "id": "wireless-hardwood",
   "metadata": {
    "scrolled": true
   },
   "outputs": [
    {
     "name": "stdout",
     "output_type": "stream",
     "text": [
      "153.3512443016217 126.41958520880378\n",
      "52.36302304267883\n"
     ]
    },
    {
     "data": {
      "image/png": "[encoded data removed]",
      "text/plain": [
       "<Figure size 432x288 with 1 Axes>"
      ]
     },
     "metadata": {
      "needs_background": "light"
     },
     "output_type": "display_data"
    }
   ],
   "source": [
    "start = time.time()\n",
    "op = []\n",
    "for a in range(0,100000):\n",
    "    plecak = [10,0,0,0,0,0]\n",
    "    z = 0\n",
    "    while z<10:\n",
    "        n=0\n",
    "        plecak = buy(plecak)\n",
    "        plecak = fill(plecak)\n",
    "        plecak = sell(plecak)\n",
    "        while n not in (3,4,5,6,7,8):\n",
    "            n=np.random.normal(12,4)//2\n",
    "        plecak[0] = plecak[0] - n    \n",
    "        z = z + 1\n",
    "    op.append(plecak[0])\n",
    "# print(op)\n",
    "output = pd.Series(op)\n",
    "#remove output = 0 dummy runs\n",
    "output[output>0].plot.hist(grid=True, bins=50)\n",
    "print(output[output>0].mean(),output[output>0].std())\n",
    "end = time.time()\n",
    "print(end - start)"
   ]
  }
 ],
 "metadata": {
  "kernelspec": {
   "display_name": "Python 3 (ipykernel)",
   "language": "python",
   "name": "python3"
  },
  "language_info": {
   "codemirror_mode": {
    "name": "ipython",
    "version": 3
   },
   "file_extension": ".py",
   "mimetype": "text/x-python",
   "name": "python",
   "nbconvert_exporter": "python",
   "pygments_lexer": "ipython3",
   "version": "3.9.12"
  }
 },
 "nbformat": 4,
 "nbformat_minor": 5
}
